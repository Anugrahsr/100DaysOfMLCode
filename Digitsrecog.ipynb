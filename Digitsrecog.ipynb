{
  "nbformat": 4,
  "nbformat_minor": 0,
  "metadata": {
    "colab": {
      "name": "Untitled5.ipynb",
      "provenance": [],
      "authorship_tag": "ABX9TyOsmdTLprf+zDMlrC5J/lE7",
      "include_colab_link": true
    },
    "kernelspec": {
      "name": "python3",
      "display_name": "Python 3"
    },
    "accelerator": "GPU"
  },
  "cells": [
    {
      "cell_type": "markdown",
      "metadata": {
        "id": "view-in-github",
        "colab_type": "text"
      },
      "source": [
        "<a href=\"https://colab.research.google.com/github/Anugrahsr/100DaysOfMLCode/blob/master/Digitsrecog.ipynb\" target=\"_parent\"><img src=\"https://colab.research.google.com/assets/colab-badge.svg\" alt=\"Open In Colab\"/></a>"
      ]
    },
    {
      "cell_type": "markdown",
      "metadata": {
        "id": "Rf0GjHY5fJXA"
      },
      "source": [
        "# Classification of Handwritten Digits using ANN"
      ]
    },
    {
      "cell_type": "code",
      "metadata": {
        "id": "uydBxMnOnw2L"
      },
      "source": [
        "#importing dataset\n",
        "from keras.datasets import mnist"
      ],
      "execution_count": 1,
      "outputs": []
    },
    {
      "cell_type": "code",
      "metadata": {
        "id": "ft9mRjmDpiMS"
      },
      "source": [
        "#importing kerasapi\n",
        "from keras.models import Sequential\n",
        "from keras.layers.core import Dense, Dropout, Activation\n",
        "from keras.utils import np_utils"
      ],
      "execution_count": 2,
      "outputs": []
    },
    {
      "cell_type": "code",
      "metadata": {
        "id": "7PKmddiOn-yj",
        "outputId": "a86e0409-841e-4f0d-dabf-17b855c147c8",
        "colab": {
          "base_uri": "https://localhost:8080/",
          "height": 51
        }
      },
      "source": [
        "#test and train data\n",
        "(X_train, Y_train), (X_test, Y_test) = mnist.load_data()"
      ],
      "execution_count": 3,
      "outputs": [
        {
          "output_type": "stream",
          "text": [
            "Downloading data from https://storage.googleapis.com/tensorflow/tf-keras-datasets/mnist.npz\n",
            "11493376/11490434 [==============================] - 0s 0us/step\n"
          ],
          "name": "stdout"
        }
      ]
    },
    {
      "cell_type": "code",
      "metadata": {
        "id": "ptXsCp6MoioA"
      },
      "source": [
        "#Reshape the images into a single vector of 784 elements.\n",
        "X_train = X_train.reshape(60000, 784)\n",
        "X_test = X_test.reshape(10000, 784)"
      ],
      "execution_count": 4,
      "outputs": []
    },
    {
      "cell_type": "code",
      "metadata": {
        "id": "oSVIKE0fon_h"
      },
      "source": [
        "#Normalisation, so that input data values are in the range 0-1, instead of 0-255.\n",
        "X_train = X_train.astype('float32')\n",
        "X_test = X_test.astype('float32')\n",
        "X_train /= 255\n",
        "X_test /= 255"
      ],
      "execution_count": 5,
      "outputs": []
    },
    {
      "cell_type": "code",
      "metadata": {
        "id": "U-COPTJvpHZY"
      },
      "source": [
        "#Converts a class vector to binary class matrix.\n",
        "Y_train = np_utils.to_categorical(Y_train, 10)\n",
        "Y_test = np_utils.to_categorical(Y_test, 10)"
      ],
      "execution_count": 6,
      "outputs": []
    },
    {
      "cell_type": "markdown",
      "metadata": {
        "id": "UXroyLbkga8m"
      },
      "source": [
        "## ANN structure"
      ]
    },
    {
      "cell_type": "code",
      "metadata": {
        "id": "-Fc0Ak3Iptaz"
      },
      "source": [
        "#Model\n",
        "model = Sequential()\n",
        "#Input layer of 784 nodes, hidden layers1 of 512 nodes\n",
        "model.add(Dense(512, input_shape=(784,)))\n",
        "#ReLU activation function.\n",
        "model.add(Activation('relu'))\n",
        "#Randomly drop 20% of the neural network connections.\n",
        "model.add(Dropout(0.2))\n",
        "#hidden layers2 of 512 nodes\n",
        "model.add(Dense(512))\n",
        "#ReLU activation function.\n",
        "model.add(Activation('relu'))\n",
        "#Randomly drop 20% of the neural network connections.\n",
        "model.add(Dropout(0.2))\n",
        "#Output layer of 10 nodes.\n",
        "model.add(Dense(10))\n",
        "#Softmax activation function.\n",
        "model.add(Activation('softmax'))\n"
      ],
      "execution_count": 7,
      "outputs": []
    },
    {
      "cell_type": "code",
      "metadata": {
        "id": "u--Iy9lBqeBQ"
      },
      "source": [
        "#Computes the categorical crossentropy loss.\n",
        "#‘adam' as optimizer.\n",
        "\n",
        "model.compile(loss='categorical_crossentropy', metrics=['accuracy'], optimizer='adam')\n"
      ],
      "execution_count": 8,
      "outputs": []
    },
    {
      "cell_type": "code",
      "metadata": {
        "id": "7StyBa7mqyQZ",
        "outputId": "9704ad3a-8193-405b-cd2a-c650535b62e9",
        "colab": {
          "base_uri": "https://localhost:8080/",
          "height": 697
        }
      },
      "source": [
        "logs = model.fit(X_train, Y_train,\n",
        "          batch_size=128, epochs=20,\n",
        "          verbose=2,\n",
        "          validation_data=(X_test, Y_test))"
      ],
      "execution_count": 9,
      "outputs": [
        {
          "output_type": "stream",
          "text": [
            "Epoch 1/20\n",
            "469/469 - 2s - loss: 0.2459 - accuracy: 0.9261 - val_loss: 0.1017 - val_accuracy: 0.9683\n",
            "Epoch 2/20\n",
            "469/469 - 2s - loss: 0.0998 - accuracy: 0.9696 - val_loss: 0.0858 - val_accuracy: 0.9734\n",
            "Epoch 3/20\n",
            "469/469 - 2s - loss: 0.0696 - accuracy: 0.9785 - val_loss: 0.0756 - val_accuracy: 0.9783\n",
            "Epoch 4/20\n",
            "469/469 - 2s - loss: 0.0549 - accuracy: 0.9824 - val_loss: 0.0727 - val_accuracy: 0.9789\n",
            "Epoch 5/20\n",
            "469/469 - 2s - loss: 0.0458 - accuracy: 0.9847 - val_loss: 0.0779 - val_accuracy: 0.9759\n",
            "Epoch 6/20\n",
            "469/469 - 2s - loss: 0.0404 - accuracy: 0.9869 - val_loss: 0.0632 - val_accuracy: 0.9827\n",
            "Epoch 7/20\n",
            "469/469 - 2s - loss: 0.0359 - accuracy: 0.9887 - val_loss: 0.0602 - val_accuracy: 0.9823\n",
            "Epoch 8/20\n",
            "469/469 - 2s - loss: 0.0277 - accuracy: 0.9909 - val_loss: 0.0602 - val_accuracy: 0.9837\n",
            "Epoch 9/20\n",
            "469/469 - 2s - loss: 0.0274 - accuracy: 0.9908 - val_loss: 0.0631 - val_accuracy: 0.9822\n",
            "Epoch 10/20\n",
            "469/469 - 2s - loss: 0.0249 - accuracy: 0.9912 - val_loss: 0.0645 - val_accuracy: 0.9827\n",
            "Epoch 11/20\n",
            "469/469 - 2s - loss: 0.0249 - accuracy: 0.9919 - val_loss: 0.0757 - val_accuracy: 0.9815\n",
            "Epoch 12/20\n",
            "469/469 - 2s - loss: 0.0202 - accuracy: 0.9931 - val_loss: 0.0686 - val_accuracy: 0.9819\n",
            "Epoch 13/20\n",
            "469/469 - 2s - loss: 0.0199 - accuracy: 0.9934 - val_loss: 0.0778 - val_accuracy: 0.9837\n",
            "Epoch 14/20\n",
            "469/469 - 1s - loss: 0.0180 - accuracy: 0.9936 - val_loss: 0.0774 - val_accuracy: 0.9808\n",
            "Epoch 15/20\n",
            "469/469 - 2s - loss: 0.0205 - accuracy: 0.9932 - val_loss: 0.0711 - val_accuracy: 0.9823\n",
            "Epoch 16/20\n",
            "469/469 - 1s - loss: 0.0190 - accuracy: 0.9937 - val_loss: 0.0727 - val_accuracy: 0.9830\n",
            "Epoch 17/20\n",
            "469/469 - 1s - loss: 0.0149 - accuracy: 0.9951 - val_loss: 0.0788 - val_accuracy: 0.9836\n",
            "Epoch 18/20\n",
            "469/469 - 2s - loss: 0.0173 - accuracy: 0.9947 - val_loss: 0.0809 - val_accuracy: 0.9827\n",
            "Epoch 19/20\n",
            "469/469 - 1s - loss: 0.0147 - accuracy: 0.9955 - val_loss: 0.0693 - val_accuracy: 0.9840\n",
            "Epoch 20/20\n",
            "469/469 - 2s - loss: 0.0148 - accuracy: 0.9952 - val_loss: 0.0900 - val_accuracy: 0.9821\n"
          ],
          "name": "stdout"
        }
      ]
    },
    {
      "cell_type": "code",
      "metadata": {
        "id": "rHomRprAsQEU",
        "outputId": "e8cd2f48-3645-4d95-a3af-6dd7715661be",
        "colab": {
          "base_uri": "https://localhost:8080/",
          "height": 34
        }
      },
      "source": [
        "#find the Accuracy and loss using evaluate\n",
        "loss_and_metrics = model.evaluate(X_test, Y_test, verbose=2)"
      ],
      "execution_count": 10,
      "outputs": [
        {
          "output_type": "stream",
          "text": [
            "313/313 - 1s - loss: 0.0900 - accuracy: 0.9821\n"
          ],
          "name": "stdout"
        }
      ]
    },
    {
      "cell_type": "code",
      "metadata": {
        "id": "l77DOTMJsUdR",
        "outputId": "df7f9e96-851b-4f87-db11-fb02c731cb4e",
        "colab": {
          "base_uri": "https://localhost:8080/",
          "height": 51
        }
      },
      "source": [
        "print(\"Test Loss\", loss_and_metrics[0])\n",
        "print(\"Test Accuracy\", loss_and_metrics[1])"
      ],
      "execution_count": 11,
      "outputs": [
        {
          "output_type": "stream",
          "text": [
            "Test Loss 0.09002435952425003\n",
            "Test Accuracy 0.9821000099182129\n"
          ],
          "name": "stdout"
        }
      ]
    }
  ]
}